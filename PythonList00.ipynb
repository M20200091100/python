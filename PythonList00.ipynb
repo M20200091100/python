{
  "nbformat": 4,
  "nbformat_minor": 0,
  "metadata": {
    "colab": {
      "name": "PythonList00.ipynb",
      "provenance": [],
      "include_colab_link": true
    },
    "kernelspec": {
      "name": "python3",
      "display_name": "Python 3"
    },
    "language_info": {
      "name": "python"
    }
  },
  "cells": [
    {
      "cell_type": "markdown",
      "metadata": {
        "id": "view-in-github",
        "colab_type": "text"
      },
      "source": [
        "<a href=\"https://colab.research.google.com/github/M20200091100/python/blob/master/PythonList00.ipynb\" target=\"_parent\"><img src=\"https://colab.research.google.com/assets/colab-badge.svg\" alt=\"Open In Colab\"/></a>"
      ]
    },
    {
      "cell_type": "markdown",
      "metadata": {
        "id": "schpZkvm45c6"
      },
      "source": [
        "**UNIVERSIDADE FEDERAL DO RIO GRANDE DO NORTE**\n",
        "\n",
        "**DEPARTAMENTO DE ENGENHARIA MECÂNICA**\n",
        "\n",
        "*ALGORITMOS E LINGUAGEM DE PROGRAMAÇÃO ORIENTADA A OBJETOS*\n",
        "\n",
        "*PROF. CARLOS MAGNO*"
      ]
    },
    {
      "cell_type": "markdown",
      "metadata": {
        "id": "hdBVFgBt5WGZ"
      },
      "source": [
        "**PRIMEIRA LISTA DE EXERCÍCIOS**\n",
        "\n",
        "1. Construa um algoritmo que, tendo como dados de entrada dois pontos quaisquer no plano, P(x1,y1) e P(x2,y2), escreva a distância entre eles. \n",
        "A fórmula que efetua tal cálculo é:\n",
        "$\n",
        "\\sqrt{(x2 - X1)^2 + (Y2 - Y1)^2}\n",
        "$"
      ]
    },
    {
      "cell_type": "code",
      "metadata": {
        "id": "EbsnjVzY3BQN"
      },
      "source": [
        "# "
      ],
      "execution_count": null,
      "outputs": []
    },
    {
      "cell_type": "markdown",
      "metadata": {
        "id": "228bEMvO_Yl1"
      },
      "source": [
        "2. Faça um algoritmo que leia as 3 notas de um aluno e calcule a média final deste aluno. Considerar que a média é ponderada e que o peso das notas é: 2,3 e 5, respectivamente."
      ]
    },
    {
      "cell_type": "code",
      "metadata": {
        "id": "ZN0IsTHh_kGo"
      },
      "source": [
        "\n",
        "# calcular media ponderada de 3 notas \n",
        "# declaraçao de variaves \n",
        "# variaveis de entrada \n",
        "\n",
        "numerador = 0\n",
        "denominador = 0\n",
        "\n",
        "# digite os valores das notas e dos pesos \n",
        "for i in range (3) : \n",
        " \n",
        " # variaveis de saida \n",
        " # processamento \n",
        " # (nota1+peso1) + (nota2+peso2) + (nota3+peso3) / (peso1+peso2+peso3)\n",
        "\n",
        "  nota = float(input(\"digite a nota? \"))\n",
        "  peso = float(input(\"digite o peso correspondente? \"))\n",
        " \n",
        "  numerador = numerador + nota*peso\n",
        "  denominador = denominador + peso \n",
        "\n",
        "# saida de dados \n",
        "  print (\"a media final é : \", numerador/denominador)\n",
        "\n"
      ],
      "execution_count": null,
      "outputs": []
    },
    {
      "cell_type": "markdown",
      "metadata": {
        "id": "5OTNr7Jh_k52"
      },
      "source": [
        "3. O custo ao consumidor de um carro novo é a soma do custo de fábrica com a percentagem do distribuidor e dos impostos (aplicados ao custo de fábrica). Supondo que a percentagem do distribuidor seja de 28% e os impostos de 45%, escrever um algoritmo que leia o custo de fábrica de um carro e escreva o custo ao consumidor."
      ]
    },
    {
      "cell_type": "code",
      "metadata": {
        "id": "MZqpLOjo_uCn"
      },
      "source": [],
      "execution_count": null,
      "outputs": []
    },
    {
      "cell_type": "code",
      "metadata": {
        "id": "ZGTKKxzeDh8w"
      },
      "source": [
        "o"
      ],
      "execution_count": null,
      "outputs": []
    },
    {
      "cell_type": "markdown",
      "metadata": {
        "id": "yfJJ6VRs_uwT"
      },
      "source": [
        "4. Um sistema de equações lineares do tipo:\n",
        "\n",
        "$ax + by = c$\n",
        "\n",
        "$dx + ey = f$\n",
        "\n",
        " Escreva um algoritmo que lê os coeficientes a,b,c,d,e e f e calcula e mostra os valores de x e y. Solução do sistema:\n",
        "\n",
        " $x = \\frac{ce-bf}{ae - bd}$\n",
        "\n",
        "  $y = \\frac{af-cd}{ae - bd}$"
      ]
    },
    {
      "cell_type": "code",
      "metadata": {
        "id": "bOrA7G1zEDNs"
      },
      "source": [],
      "execution_count": null,
      "outputs": []
    },
    {
      "cell_type": "markdown",
      "metadata": {
        "id": "7ASew0UjEDsc"
      },
      "source": [
        "5. 7. Escrever um algoritmo que lê:\n",
        "\n",
        "- a percentagem do IPI a ser acrescido no valor das peças\n",
        "- o código da peça 1, valor unitário da peça 1, quantidade de peças 1\n",
        "- o código da peça 2, valor unitário da peça 2, quantidade de peças 2\n",
        "\n",
        "O algoritmo deve calcular o valor total a ser pago e apresentar o resultado.\n",
        "\n",
        "Fórmula : $(valor1*quant1 + valor2*quant2)*(IPI/100 + 1)$"
      ]
    },
    {
      "cell_type": "markdown",
      "metadata": {
        "id": "EYP96mo_EWvJ"
      },
      "source": [
        "6. Construa um algoritmo que calcule seu peso ideal, utilizando as seguintes fórmulas:\n",
        "\n",
        "- para homens: (72.7*h)-58\n",
        "\n",
        "- para mulheres: (62.1*h)-44.7"
      ]
    },
    {
      "cell_type": "code",
      "metadata": {
        "id": "dDjnOtvyEkzN"
      },
      "source": [
        "\n",
        "#programa peso ideal\n",
        "#definicao das variaveis \n",
        "#variaveis de entrada \n",
        " \n",
        "sexo = int(input(\"digite seu sexo: (1 - para masculino, 2 - para feminino) \"))\n",
        "altura = int(input(\"digite sua altura: (em cm) \"))\n",
        "\n",
        "if sexo == 1:\n",
        "  print(\"masculino\")\n",
        "  formula_peso = (72,7 * (altura / 100))-58\n",
        "  print(f\" o peso ideal é de {round(formula_peso, 2)} kg\")\n",
        "\n",
        "else: \n",
        "  print(\"feminino\")\n",
        "  formula_peso = (62,1 * altura)-44,7\n",
        "  print(f\"o peso ideal é de {round(formula_peso, 2)} kg\")\n",
        "  \n"
      ],
      "execution_count": null,
      "outputs": []
    },
    {
      "cell_type": "markdown",
      "metadata": {
        "id": "pSHUsX9wEmC7"
      },
      "source": [
        "7. Construa um algoritmo que calcule o fatoria de um número fornecido."
      ]
    },
    {
      "cell_type": "code",
      "metadata": {
        "id": "zI_SMK8DEtIv"
      },
      "source": [
        "# programa para calcular o fatoraial de um numero \n",
        "# definicao das variaveis \n",
        "# variaveis de entrada \n",
        "\n",
        "n = int(input(\"digite um valor para calcular seu fatorial: \"))\n",
        "c = n \n",
        "f = 1\n",
        "# variaveis de saida \n",
        "# processamento  \n",
        "\n",
        "print(\"calculando {}! = \". format(n), end=\" \")\n",
        "while c > 0:\n",
        "  print(\"{}\". format(c), end = \" \")\n",
        "  print(\"x\" if c> 1 else \" = \", end=\" \")\n",
        "  f *= c \n",
        "  c -= 1 \n",
        "  # saida de dados \n",
        "print(\"o fatorial desse numero é {}\". format(f))  "
      ],
      "execution_count": null,
      "outputs": []
    },
    {
      "cell_type": "markdown",
      "metadata": {
        "id": "_wvIhB4sEt1D"
      },
      "source": []
    }
  ]
}