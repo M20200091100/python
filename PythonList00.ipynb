{
  "nbformat": 4,
  "nbformat_minor": 0,
  "metadata": {
    "colab": {
      "name": "PythonList00.ipynb",
      "provenance": [],
      "include_colab_link": true
    },
    "kernelspec": {
      "name": "python3",
      "display_name": "Python 3"
    },
    "language_info": {
      "name": "python"
    }
  },
  "cells": [
    {
      "cell_type": "markdown",
      "metadata": {
        "id": "view-in-github",
        "colab_type": "text"
      },
      "source": [
        "<a href=\"https://colab.research.google.com/github/M20200091100/python/blob/master/PythonList00.ipynb\" target=\"_parent\"><img src=\"https://colab.research.google.com/assets/colab-badge.svg\" alt=\"Open In Colab\"/></a>"
      ]
    },
    {
      "cell_type": "markdown",
      "metadata": {
        "id": "schpZkvm45c6"
      },
      "source": [
        "**UNIVERSIDADE FEDERAL DO RIO GRANDE DO NORTE**\n",
        "\n",
        "**DEPARTAMENTO DE ENGENHARIA MECÂNICA**\n",
        "\n",
        "*ALGORITMOS E LINGUAGEM DE PROGRAMAÇÃO ORIENTADA A OBJETOS*\n",
        "\n",
        "*PROF. CARLOS MAGNO*"
      ]
    },
    {
      "cell_type": "markdown",
      "metadata": {
        "id": "hdBVFgBt5WGZ"
      },
      "source": [
        "**PRIMEIRA LISTA DE EXERCÍCIOS**\n",
        "\n",
        "1. Construa um algoritmo que, tendo como dados de entrada dois pontos quaisquer no plano, P(x1,y1) e P(x2,y2), escreva a distância entre eles. \n",
        "A fórmula que efetua tal cálculo é:\n",
        "$\n",
        "\\sqrt{(x2 - X1)^2 + (Y2 - Y1)^2}\n",
        "$"
      ]
    },
    {
      "cell_type": "code",
      "metadata": {
        "id": "EbsnjVzY3BQN",
        "colab": {
          "base_uri": "https://localhost:8080/",
          "height": 122
        },
        "outputId": "ed17b66f-3683-43dd-d1c8-dbc2fd85353f"
      },
      "source": [
        "#entrada de dados \n",
        "x1 = float(input(\"digite o x1: \"))\n",
        "x2 = float(input(\"digite o x2: \"))\n",
        "y1 = float(input(\"digite o y1: \"))\n",
        "y2 = float(input(\"digite o y2: \"))\n",
        "#calculo\n",
        "import math \n",
        "d = math.pow((x2 - x1),2) + math.pow((y2 - y1),2)\n",
        "resultado = math.sqrt(d)\n",
        "#saida de dados \n",
        "print(\"a distancia entre os pontos é de: \")\n",
        "str(resultado)\n"
      ],
      "execution_count": 3,
      "outputs": [
        {
          "output_type": "stream",
          "name": "stdout",
          "text": [
            "digite o x1: 5\n",
            "digite o x2: 10\n",
            "digite o y1: 15\n",
            "digite o y2: 25\n",
            "a distancia entre os pontos é de: \n"
          ]
        },
        {
          "output_type": "execute_result",
          "data": {
            "text/plain": [
              "'11.180339887498949'"
            ],
            "application/vnd.google.colaboratory.intrinsic+json": {
              "type": "string"
            }
          },
          "metadata": {},
          "execution_count": 3
        }
      ]
    },
    {
      "cell_type": "markdown",
      "metadata": {
        "id": "228bEMvO_Yl1"
      },
      "source": [
        "2. Faça um algoritmo que leia as 3 notas de um aluno e calcule a média final deste aluno. Considerar que a média é ponderada e que o peso das notas é: 2,3 e 5, respectivamente."
      ]
    },
    {
      "cell_type": "code",
      "metadata": {
        "id": "ZN0IsTHh_kGo",
        "colab": {
          "base_uri": "https://localhost:8080/"
        },
        "outputId": "81690580-771e-413d-dd5d-97f63d1c8fb0"
      },
      "source": [
        "\n",
        "# calcular media ponderada de 3 notas \n",
        "# declaraçao de variaves \n",
        "# variaveis de entrada \n",
        "\n",
        "numerador = 0\n",
        "denominador = 0\n",
        "\n",
        "# digite os valores das notas e dos pesos \n",
        "for i in range (3) : \n",
        " \n",
        " # variaveis de saida \n",
        " # processamento \n",
        " # (nota1+peso1) + (nota2+peso2) + (nota3+peso3) / (peso1+peso2+peso3)\n",
        "\n",
        "  nota = float(input(\"digite a nota? \"))\n",
        "  peso = float(input(\"digite o peso correspondente? \"))\n",
        " \n",
        "  numerador = numerador + nota*peso\n",
        "  denominador = denominador + peso \n",
        "\n",
        "# saida de dados \n",
        "  print (\"a media final é : \", numerador/denominador)\n",
        "\n"
      ],
      "execution_count": 1,
      "outputs": [
        {
          "output_type": "stream",
          "name": "stdout",
          "text": [
            "digite a nota? 8\n",
            "digite o peso correspondente? 5\n",
            "a media final é :  8.0\n",
            "digite a nota? 10\n",
            "digite o peso correspondente? 3\n",
            "a media final é :  8.75\n",
            "digite a nota? 10\n",
            "digite o peso correspondente? 2\n",
            "a media final é :  9.0\n"
          ]
        }
      ]
    },
    {
      "cell_type": "markdown",
      "metadata": {
        "id": "5OTNr7Jh_k52"
      },
      "source": [
        "3. O custo ao consumidor de um carro novo é a soma do custo de fábrica com a percentagem do distribuidor e dos impostos (aplicados ao custo de fábrica). Supondo que a percentagem do distribuidor seja de 28% e os impostos de 45%, escrever um algoritmo que leia o custo de fábrica de um carro e escreva o custo ao consumidor."
      ]
    },
    {
      "cell_type": "code",
      "metadata": {
        "id": "MZqpLOjo_uCn",
        "colab": {
          "base_uri": "https://localhost:8080/",
          "height": 105
        },
        "outputId": "d12e24fe-2ed9-41f1-ff55-f199864a2fd9"
      },
      "source": [
        "#entrada de dados\n",
        "valor_fabrica = float(input(\"digite o custo de fabrica: \"))\n",
        "valor_distribuidor = float(input(\"digite o valor do distribuidor * 28%\"))\n",
        "valor_impostos = float(input(\"digite o valor dos impostos * 45%\"))\n",
        "\n",
        "#calculo \n",
        "total = valor_fabrica + valor_distribuidor + valor_impostos\n",
        "\n",
        "#saida de dados\n",
        "print(\"total\")\n",
        "str ( total )\n"
      ],
      "execution_count": 6,
      "outputs": [
        {
          "output_type": "stream",
          "name": "stdout",
          "text": [
            "digite o custo de fabrica: 100\n",
            "digite o valor do distribuidor * 28%150\n",
            "digite o valor dos impostos * 45%50\n",
            "total\n"
          ]
        },
        {
          "output_type": "execute_result",
          "data": {
            "text/plain": [
              "'300.0'"
            ],
            "application/vnd.google.colaboratory.intrinsic+json": {
              "type": "string"
            }
          },
          "metadata": {},
          "execution_count": 6
        }
      ]
    },
    {
      "cell_type": "code",
      "metadata": {
        "id": "ZGTKKxzeDh8w"
      },
      "source": [
        "o"
      ],
      "execution_count": null,
      "outputs": []
    },
    {
      "cell_type": "markdown",
      "metadata": {
        "id": "yfJJ6VRs_uwT"
      },
      "source": [
        "4. Um sistema de equações lineares do tipo:\n",
        "\n",
        "$ax + by = c$\n",
        "\n",
        "$dx + ey = f$\n",
        "\n",
        " Escreva um algoritmo que lê os coeficientes a,b,c,d,e e f e calcula e mostra os valores de x e y. Solução do sistema:\n",
        "\n",
        " $x = \\frac{ce-bf}{ae - bd}$\n",
        "\n",
        "  $y = \\frac{af-cd}{ae - bd}$"
      ]
    },
    {
      "cell_type": "code",
      "metadata": {
        "id": "bOrA7G1zEDNs"
      },
      "source": [
        "# entrada de dados \n",
        "a = float(input(\"a:  \"))\n",
        "b = float(input(\"b:  \"))\n",
        "c = float(input(\"c:  \"))\n",
        "d = float(input(\"d:  \"))\n",
        "e = float(input(\"e:  \"))\n",
        "f = float(input(\"f:  \"))\n",
        "\n",
        "#calculo\n",
        "x = (c*e - b*f) / (a*e - b*d)\n",
        "y = (a*f - c*d) / (a*e - b*d)\n",
        "\n",
        "#saida de dados \n",
        "print(\"valor de x: \")\n",
        "str(x) \n",
        "print(\"valor de y: \")\n",
        "str(y)\n"
      ],
      "execution_count": null,
      "outputs": []
    },
    {
      "cell_type": "markdown",
      "metadata": {
        "id": "7ASew0UjEDsc"
      },
      "source": [
        "5. 7. Escrever um algoritmo que lê:\n",
        "\n",
        "- a percentagem do IPI a ser acrescido no valor das peças\n",
        "- o código da peça 1, valor unitário da peça 1, quantidade de peças 1\n",
        "- o código da peça 2, valor unitário da peça 2, quantidade de peças 2\n",
        "\n",
        "O algoritmo deve calcular o valor total a ser pago e apresentar o resultado.\n",
        "\n",
        "Fórmula : $(valor1*quant1 + valor2*quant2)*(IPI/100 + 1)$"
      ]
    },
    {
      "cell_type": "code",
      "metadata": {
        "id": "JOBiMabUEV9E",
        "colab": {
          "base_uri": "https://localhost:8080/"
        },
        "outputId": "9bffeff0-5516-4234-a7b2-0f0df5f126e1"
      },
      "source": [
        "# entrada de dados \n",
        "ipi = float(input(\"qual o valor do ipi: \"))\n",
        "vp1= float(input(\"qual o valor da peça1: \"))\n",
        "vp2= float(input(\"qual o valor da peça2: \")) \n",
        "p1= float(input(\"qual a quantidade desejada da peça1: \"))\n",
        "p2= float(input(\"qual a quantidade desejada da peça2: \"))\n",
        "# calculo \n",
        "vt = (vp1 * p1 + vp2 * p2) * (ipi/100 + 1)\n",
        "vtf = \"%.2f\" %vt\n",
        "#saida de dados \n",
        "print(\"o valor total é de: \", vtf)\n"
      ],
      "execution_count": 15,
      "outputs": [
        {
          "output_type": "stream",
          "name": "stdout",
          "text": [
            "qual o valor do ipi: 10\n",
            "qual o valor da peça1: 25\n",
            "qual o valor da peça2: 30\n",
            "qual a quantidade desejada da peça1: 10\n",
            "qual a quantidade desejada da peça2: 5\n",
            "o valor total é de:  440.00\n"
          ]
        }
      ]
    },
    {
      "cell_type": "markdown",
      "metadata": {
        "id": "EYP96mo_EWvJ"
      },
      "source": [
        "6. Construa um algoritmo que calcule seu peso ideal, utilizando as seguintes fórmulas:\n",
        "\n",
        "- para homens: (72.7*h)-58\n",
        "\n",
        "- para mulheres: (62.1*h)-44.7"
      ]
    },
    {
      "cell_type": "code",
      "metadata": {
        "id": "dDjnOtvyEkzN",
        "colab": {
          "base_uri": "https://localhost:8080/",
          "height": 70
        },
        "outputId": "5b84c35e-5a17-43ac-9b3c-6d283f3a97d5"
      },
      "source": [
        "#programa peso ideal\n",
        "#definicao das variaveis \n",
        "#variaveis de entrada \n",
        "altura = float(input(\"digite sua altura: \"))\n",
        "\n",
        "#calculo \n",
        "total = 72.7*altura - 58\n",
        "\n",
        "#saida de dados \n",
        "print(\"seu peso ideal é: \")\n",
        "str(total)"
      ],
      "execution_count": 12,
      "outputs": [
        {
          "output_type": "stream",
          "name": "stdout",
          "text": [
            "digite sua altura: 1.75\n",
            "seu peso ideal é: \n"
          ]
        },
        {
          "output_type": "execute_result",
          "data": {
            "text/plain": [
              "'69.22500000000001'"
            ],
            "application/vnd.google.colaboratory.intrinsic+json": {
              "type": "string"
            }
          },
          "metadata": {},
          "execution_count": 12
        }
      ]
    },
    {
      "cell_type": "markdown",
      "metadata": {
        "id": "pSHUsX9wEmC7"
      },
      "source": [
        "7. Construa um algoritmo que calcule o fatoria de um número fornecido."
      ]
    },
    {
      "cell_type": "code",
      "metadata": {
        "id": "zI_SMK8DEtIv",
        "colab": {
          "base_uri": "https://localhost:8080/"
        },
        "outputId": "8ec6fcce-3df8-4fab-b7f2-0d0a485f2730"
      },
      "source": [
        "# programa para calcular o fatoraial de um numero \n",
        "# definicao das variaveis \n",
        "# variaveis de entrada \n",
        "\n",
        "n = int(input(\"digite um valor para calcular seu fatorial: \"))\n",
        "c = n \n",
        "f = 1\n",
        "# variaveis de saida \n",
        "# processamento  \n",
        "\n",
        "print(\"calculando {}! = \". format(n), end=\" \")\n",
        "while c > 0:\n",
        "  print(\"{}\". format(c), end = \" \")\n",
        "  print(\"x\" if c> 1 else \" = \", end=\" \")\n",
        "  f *= c \n",
        "  c -= 1 \n",
        "  # saida de dados \n",
        "print(\"o fatorial desse numero é {}\". format(f))  "
      ],
      "execution_count": 2,
      "outputs": [
        {
          "output_type": "stream",
          "name": "stdout",
          "text": [
            "digite um valor para calcular seu fatorial: 4\n",
            "calculando 4! =  4 x 3 x 2 x 1  =  o fatorial desse numero é 24\n"
          ]
        }
      ]
    },
    {
      "cell_type": "markdown",
      "metadata": {
        "id": "_wvIhB4sEt1D"
      },
      "source": []
    }
  ]
}