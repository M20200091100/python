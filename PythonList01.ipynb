{
  "nbformat": 4,
  "nbformat_minor": 0,
  "metadata": {
    "colab": {
      "name": "PythonList00.ipynb",
      "provenance": [],
      "include_colab_link": true
    },
    "kernelspec": {
      "name": "python3",
      "display_name": "Python 3"
    },
    "language_info": {
      "name": "python"
    }
  },
  "cells": [
    {
      "cell_type": "markdown",
      "metadata": {
        "id": "view-in-github",
        "colab_type": "text"
      },
      "source": [
        "<a href=\"https://colab.research.google.com/github/M20200091100/python/blob/master/PythonList01.ipynb\" target=\"_parent\"><img src=\"https://colab.research.google.com/assets/colab-badge.svg\" alt=\"Open In Colab\"/></a>"
      ]
    },
    {
      "cell_type": "markdown",
      "metadata": {
        "id": "schpZkvm45c6"
      },
      "source": [
        "**UNIVERSIDADE FEDERAL DO RIO GRANDE DO NORTE**\n",
        "\n",
        "**DEPARTAMENTO DE ENGENHARIA MECÂNICA**\n",
        "\n",
        "*ALGORITMOS E LINGUAGEM DE PROGRAMAÇÃO ORIENTADA A OBJETOS*\n",
        "\n",
        "*PROF. CARLOS MAGNO*"
      ]
    },
    {
      "cell_type": "markdown",
      "metadata": {
        "id": "hdBVFgBt5WGZ"
      },
      "source": [
        "**SEGUNDA LISTA DE EXERCÍCIOS**\n",
        "\n",
        "ESTRUTURAS DE DECISÃO\n",
        "\n",
        "1 - Construa um algoritmo que receba dois números inteiros e informe qual é o maior entre os números digitados. \n"
      ]
    },
    {
      "cell_type": "code",
      "metadata": {
        "id": "EbsnjVzY3BQN"
      },
      "source": [],
      "execution_count": null,
      "outputs": []
    },
    {
      "cell_type": "markdown",
      "metadata": {
        "id": "228bEMvO_Yl1"
      },
      "source": [
        "2 - Ler um valor numerico inteiro e informar se o mesmo é impar ou par"
      ]
    },
    {
      "cell_type": "code",
      "metadata": {
        "id": "ZN0IsTHh_kGo"
      },
      "source": [],
      "execution_count": null,
      "outputs": []
    },
    {
      "cell_type": "markdown",
      "metadata": {
        "id": "5OTNr7Jh_k52"
      },
      "source": [
        "3 - Ler tres valores numericos diferentes de zero e representados pelas variáveis a,b e c. Efetuar o cálculo da equação de segundo grau ( utilizando a fórmula de Baskara ). Considerar todas as possiveis condições para delta < 0, delta > 0 e delta = 0. "
      ]
    },
    {
      "cell_type": "code",
      "metadata": {
        "id": "MZqpLOjo_uCn"
      },
      "source": [],
      "execution_count": null,
      "outputs": []
    },
    {
      "cell_type": "markdown",
      "metadata": {
        "id": "yfJJ6VRs_uwT"
      },
      "source": [
        "4 - Ler um valor numerico inteiro e apresentar a mensagem se ele é divisível por 2 e por 3"
      ]
    },
    {
      "cell_type": "code",
      "metadata": {
        "id": "bOrA7G1zEDNs"
      },
      "source": [],
      "execution_count": null,
      "outputs": []
    },
    {
      "cell_type": "markdown",
      "metadata": {
        "id": "7ASew0UjEDsc"
      },
      "source": [
        "5 -  Ler três valores para os lados de um triângulo, considerando lados como: A,B e C. Verificar se os lados fornecidos realmente formam um triângulo. Caso verdade voce deverá indicar se o triângulo formado é: is´sceles, escaleno ou equilátero."
      ]
    },
    {
      "cell_type": "code",
      "metadata": {
        "id": "JOBiMabUEV9E"
      },
      "source": [],
      "execution_count": null,
      "outputs": []
    },
    {
      "cell_type": "markdown",
      "metadata": {
        "id": "EYP96mo_EWvJ"
      },
      "source": [
        "6 - Construa um algoritmo que calcule seu peso ideal, utilizando as seguintes fórmulas, e indique se há sobrepeso, conforme a tabela abaixo\n",
        "\n",
        "- para homens: (72.7*h)-58                \n",
        "[ sobrepeso = 100 kg ]\n",
        "\n",
        "- para mulheres: (62.1*h)-44.7            \n",
        "[ sobrepeso = 80 kg ]"
      ]
    },
    {
      "cell_type": "code",
      "metadata": {
        "id": "dDjnOtvyEkzN"
      },
      "source": [],
      "execution_count": null,
      "outputs": []
    },
    {
      "cell_type": "markdown",
      "metadata": {
        "id": "pSHUsX9wEmC7"
      },
      "source": [
        "7 - Ler um valor númerico inteiro qualquer e apresentar o valor caso o mesmo não seja maior que 3. Utilizar o operador lógico **not**"
      ]
    },
    {
      "cell_type": "code",
      "metadata": {
        "id": "zI_SMK8DEtIv"
      },
      "source": [],
      "execution_count": null,
      "outputs": []
    },
    {
      "cell_type": "markdown",
      "metadata": {
        "id": "_wvIhB4sEt1D"
      },
      "source": [
        "8 - Considere que 5 times participam de um campeonato. Um deles é o seu preferido, para o time que você escolher como seu preferido escreva uma mensagem que justifique a sua torcida."
      ]
    },
    {
      "cell_type": "code",
      "metadata": {
        "id": "UzdGCeUDhX8w"
      },
      "source": [],
      "execution_count": null,
      "outputs": []
    },
    {
      "cell_type": "markdown",
      "source": [
        "9- reoluçao da questao da pagina 45 \n"
      ],
      "metadata": {
        "id": "5OKr4pjohlXb"
      }
    },
    {
      "cell_type": "code",
      "source": [
        "# reajuste de salario\n",
        "#variaveis\n",
        "salario = 0 \n",
        "novo_salario = 0\n",
        "\n",
        "# entrada de dados \n",
        "salario = float(input(\"digite o salario:\")\n",
        "# processamento \n",
        "if salario < 500:\n",
        "  novo_salario = salario * 1.15\n",
        "else:\n",
        "  if: salario <= 100:\n",
        "    novo_salario  = salario * 1.1o\n",
        "  else:\n",
        "    novo_salario = salario * 1.x=\n",
        "\n",
        "#saida \n",
        "print(10 * \"-\")\n",
        "print(\"novo salario\" + str(novo_salario))\n",
        "print(10 * \"_\")\n",
        "\n",
        "\n",
        "\n"
      ],
      "metadata": {
        "id": "dHpCyajliMsa",
        "outputId": "2b38ddb6-4651-49d6-bd75-17644648d2de",
        "colab": {
          "base_uri": "https://localhost:8080/",
          "height": 130
        }
      },
      "execution_count": 7,
      "outputs": [
        {
          "output_type": "error",
          "ename": "SyntaxError",
          "evalue": "ignored",
          "traceback": [
            "\u001b[0;36m  File \u001b[0;32m\"<ipython-input-7-ae7afeb3a144>\"\u001b[0;36m, line \u001b[0;32m9\u001b[0m\n\u001b[0;31m    if salario < 500:\u001b[0m\n\u001b[0m                    ^\u001b[0m\n\u001b[0;31mSyntaxError\u001b[0m\u001b[0;31m:\u001b[0m invalid syntax\n"
          ]
        }
      ]
    }
  ]
}